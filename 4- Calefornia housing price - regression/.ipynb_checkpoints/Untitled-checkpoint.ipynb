{
 "cells": [
  {
   "cell_type": "markdown",
   "id": "4d069d6e",
   "metadata": {},
   "source": [
    "# California housing price"
   ]
  },
  {
   "cell_type": "markdown",
   "id": "778e83de",
   "metadata": {},
   "source": [
    "## Import data & Read data"
   ]
  },
  {
   "cell_type": "code",
   "execution_count": 1,
   "id": "bd49ff1e",
   "metadata": {},
   "outputs": [],
   "source": [
    "import numpy as np\n",
    "import pandas as pd\n",
    "import matplotlib.pyplot as plt\n",
    "import seaborn as sns\n",
    "import sklearn.datasets"
   ]
  },
  {
   "cell_type": "code",
   "execution_count": 2,
   "id": "288b1764",
   "metadata": {},
   "outputs": [
    {
     "data": {
      "text/html": [
       "<div>\n",
       "<style scoped>\n",
       "    .dataframe tbody tr th:only-of-type {\n",
       "        vertical-align: middle;\n",
       "    }\n",
       "\n",
       "    .dataframe tbody tr th {\n",
       "        vertical-align: top;\n",
       "    }\n",
       "\n",
       "    .dataframe thead th {\n",
       "        text-align: right;\n",
       "    }\n",
       "</style>\n",
       "<table border=\"1\" class=\"dataframe\">\n",
       "  <thead>\n",
       "    <tr style=\"text-align: right;\">\n",
       "      <th></th>\n",
       "      <th>MedInc</th>\n",
       "      <th>HouseAge</th>\n",
       "      <th>AveRooms</th>\n",
       "      <th>AveBedrms</th>\n",
       "      <th>Population</th>\n",
       "      <th>AveOccup</th>\n",
       "      <th>Latitude</th>\n",
       "      <th>Longitude</th>\n",
       "    </tr>\n",
       "  </thead>\n",
       "  <tbody>\n",
       "    <tr>\n",
       "      <th>0</th>\n",
       "      <td>8.3252</td>\n",
       "      <td>41.0</td>\n",
       "      <td>6.984127</td>\n",
       "      <td>1.023810</td>\n",
       "      <td>322.0</td>\n",
       "      <td>2.555556</td>\n",
       "      <td>37.88</td>\n",
       "      <td>-122.23</td>\n",
       "    </tr>\n",
       "    <tr>\n",
       "      <th>1</th>\n",
       "      <td>8.3014</td>\n",
       "      <td>21.0</td>\n",
       "      <td>6.238137</td>\n",
       "      <td>0.971880</td>\n",
       "      <td>2401.0</td>\n",
       "      <td>2.109842</td>\n",
       "      <td>37.86</td>\n",
       "      <td>-122.22</td>\n",
       "    </tr>\n",
       "    <tr>\n",
       "      <th>2</th>\n",
       "      <td>7.2574</td>\n",
       "      <td>52.0</td>\n",
       "      <td>8.288136</td>\n",
       "      <td>1.073446</td>\n",
       "      <td>496.0</td>\n",
       "      <td>2.802260</td>\n",
       "      <td>37.85</td>\n",
       "      <td>-122.24</td>\n",
       "    </tr>\n",
       "    <tr>\n",
       "      <th>3</th>\n",
       "      <td>5.6431</td>\n",
       "      <td>52.0</td>\n",
       "      <td>5.817352</td>\n",
       "      <td>1.073059</td>\n",
       "      <td>558.0</td>\n",
       "      <td>2.547945</td>\n",
       "      <td>37.85</td>\n",
       "      <td>-122.25</td>\n",
       "    </tr>\n",
       "    <tr>\n",
       "      <th>4</th>\n",
       "      <td>3.8462</td>\n",
       "      <td>52.0</td>\n",
       "      <td>6.281853</td>\n",
       "      <td>1.081081</td>\n",
       "      <td>565.0</td>\n",
       "      <td>2.181467</td>\n",
       "      <td>37.85</td>\n",
       "      <td>-122.25</td>\n",
       "    </tr>\n",
       "  </tbody>\n",
       "</table>\n",
       "</div>"
      ],
      "text/plain": [
       "   MedInc  HouseAge  AveRooms  AveBedrms  Population  AveOccup  Latitude  \\\n",
       "0  8.3252      41.0  6.984127   1.023810       322.0  2.555556     37.88   \n",
       "1  8.3014      21.0  6.238137   0.971880      2401.0  2.109842     37.86   \n",
       "2  7.2574      52.0  8.288136   1.073446       496.0  2.802260     37.85   \n",
       "3  5.6431      52.0  5.817352   1.073059       558.0  2.547945     37.85   \n",
       "4  3.8462      52.0  6.281853   1.081081       565.0  2.181467     37.85   \n",
       "\n",
       "   Longitude  \n",
       "0    -122.23  \n",
       "1    -122.22  \n",
       "2    -122.24  \n",
       "3    -122.25  \n",
       "4    -122.25  "
      ]
     },
     "execution_count": 2,
     "metadata": {},
     "output_type": "execute_result"
    }
   ],
   "source": [
    "data=sklearn.datasets.fetch_california_housing()\n",
    "df=pd.DataFrame(data.data,columns=data.feature_names)\n",
    "df.head()"
   ]
  },
  {
   "cell_type": "code",
   "execution_count": 3,
   "id": "ff4a27d0",
   "metadata": {},
   "outputs": [
    {
     "data": {
      "text/html": [
       "<div>\n",
       "<style scoped>\n",
       "    .dataframe tbody tr th:only-of-type {\n",
       "        vertical-align: middle;\n",
       "    }\n",
       "\n",
       "    .dataframe tbody tr th {\n",
       "        vertical-align: top;\n",
       "    }\n",
       "\n",
       "    .dataframe thead th {\n",
       "        text-align: right;\n",
       "    }\n",
       "</style>\n",
       "<table border=\"1\" class=\"dataframe\">\n",
       "  <thead>\n",
       "    <tr style=\"text-align: right;\">\n",
       "      <th></th>\n",
       "      <th>MedInc</th>\n",
       "      <th>HouseAge</th>\n",
       "      <th>AveRooms</th>\n",
       "      <th>AveBedrms</th>\n",
       "      <th>Population</th>\n",
       "      <th>AveOccup</th>\n",
       "      <th>Latitude</th>\n",
       "      <th>Longitude</th>\n",
       "      <th>price</th>\n",
       "    </tr>\n",
       "  </thead>\n",
       "  <tbody>\n",
       "    <tr>\n",
       "      <th>0</th>\n",
       "      <td>8.3252</td>\n",
       "      <td>41.0</td>\n",
       "      <td>6.984127</td>\n",
       "      <td>1.023810</td>\n",
       "      <td>322.0</td>\n",
       "      <td>2.555556</td>\n",
       "      <td>37.88</td>\n",
       "      <td>-122.23</td>\n",
       "      <td>4.526</td>\n",
       "    </tr>\n",
       "    <tr>\n",
       "      <th>1</th>\n",
       "      <td>8.3014</td>\n",
       "      <td>21.0</td>\n",
       "      <td>6.238137</td>\n",
       "      <td>0.971880</td>\n",
       "      <td>2401.0</td>\n",
       "      <td>2.109842</td>\n",
       "      <td>37.86</td>\n",
       "      <td>-122.22</td>\n",
       "      <td>3.585</td>\n",
       "    </tr>\n",
       "    <tr>\n",
       "      <th>2</th>\n",
       "      <td>7.2574</td>\n",
       "      <td>52.0</td>\n",
       "      <td>8.288136</td>\n",
       "      <td>1.073446</td>\n",
       "      <td>496.0</td>\n",
       "      <td>2.802260</td>\n",
       "      <td>37.85</td>\n",
       "      <td>-122.24</td>\n",
       "      <td>3.521</td>\n",
       "    </tr>\n",
       "    <tr>\n",
       "      <th>3</th>\n",
       "      <td>5.6431</td>\n",
       "      <td>52.0</td>\n",
       "      <td>5.817352</td>\n",
       "      <td>1.073059</td>\n",
       "      <td>558.0</td>\n",
       "      <td>2.547945</td>\n",
       "      <td>37.85</td>\n",
       "      <td>-122.25</td>\n",
       "      <td>3.413</td>\n",
       "    </tr>\n",
       "    <tr>\n",
       "      <th>4</th>\n",
       "      <td>3.8462</td>\n",
       "      <td>52.0</td>\n",
       "      <td>6.281853</td>\n",
       "      <td>1.081081</td>\n",
       "      <td>565.0</td>\n",
       "      <td>2.181467</td>\n",
       "      <td>37.85</td>\n",
       "      <td>-122.25</td>\n",
       "      <td>3.422</td>\n",
       "    </tr>\n",
       "  </tbody>\n",
       "</table>\n",
       "</div>"
      ],
      "text/plain": [
       "   MedInc  HouseAge  AveRooms  AveBedrms  Population  AveOccup  Latitude  \\\n",
       "0  8.3252      41.0  6.984127   1.023810       322.0  2.555556     37.88   \n",
       "1  8.3014      21.0  6.238137   0.971880      2401.0  2.109842     37.86   \n",
       "2  7.2574      52.0  8.288136   1.073446       496.0  2.802260     37.85   \n",
       "3  5.6431      52.0  5.817352   1.073059       558.0  2.547945     37.85   \n",
       "4  3.8462      52.0  6.281853   1.081081       565.0  2.181467     37.85   \n",
       "\n",
       "   Longitude  price  \n",
       "0    -122.23  4.526  \n",
       "1    -122.22  3.585  \n",
       "2    -122.24  3.521  \n",
       "3    -122.25  3.413  \n",
       "4    -122.25  3.422  "
      ]
     },
     "execution_count": 3,
     "metadata": {},
     "output_type": "execute_result"
    }
   ],
   "source": [
    "df['price']=data['target']\n",
    "df.head()"
   ]
  },
  {
   "cell_type": "markdown",
   "id": "3e4eda9d",
   "metadata": {},
   "source": [
    "## Explore Data"
   ]
  },
  {
   "cell_type": "code",
   "execution_count": 4,
   "id": "40311cde",
   "metadata": {},
   "outputs": [
    {
     "name": "stdout",
     "output_type": "stream",
     "text": [
      "<class 'pandas.core.frame.DataFrame'>\n",
      "RangeIndex: 20640 entries, 0 to 20639\n",
      "Data columns (total 9 columns):\n",
      " #   Column      Non-Null Count  Dtype  \n",
      "---  ------      --------------  -----  \n",
      " 0   MedInc      20640 non-null  float64\n",
      " 1   HouseAge    20640 non-null  float64\n",
      " 2   AveRooms    20640 non-null  float64\n",
      " 3   AveBedrms   20640 non-null  float64\n",
      " 4   Population  20640 non-null  float64\n",
      " 5   AveOccup    20640 non-null  float64\n",
      " 6   Latitude    20640 non-null  float64\n",
      " 7   Longitude   20640 non-null  float64\n",
      " 8   price       20640 non-null  float64\n",
      "dtypes: float64(9)\n",
      "memory usage: 1.4 MB\n"
     ]
    }
   ],
   "source": [
    "df.info()"
   ]
  },
  {
   "cell_type": "code",
   "execution_count": 5,
   "id": "85d54451",
   "metadata": {},
   "outputs": [
    {
     "data": {
      "text/plain": [
       "MedInc        0\n",
       "HouseAge      0\n",
       "AveRooms      0\n",
       "AveBedrms     0\n",
       "Population    0\n",
       "AveOccup      0\n",
       "Latitude      0\n",
       "Longitude     0\n",
       "price         0\n",
       "dtype: int64"
      ]
     },
     "execution_count": 5,
     "metadata": {},
     "output_type": "execute_result"
    }
   ],
   "source": [
    "df.isnull().sum() # NO null data"
   ]
  },
  {
   "cell_type": "code",
   "execution_count": 6,
   "id": "611b1a36",
   "metadata": {},
   "outputs": [
    {
     "data": {
      "text/plain": [
       "0"
      ]
     },
     "execution_count": 6,
     "metadata": {},
     "output_type": "execute_result"
    }
   ],
   "source": [
    "df.duplicated().sum() # NO duplicated data"
   ]
  },
  {
   "cell_type": "code",
   "execution_count": 7,
   "id": "3ef8ed77",
   "metadata": {},
   "outputs": [
    {
     "data": {
      "text/html": [
       "<div>\n",
       "<style scoped>\n",
       "    .dataframe tbody tr th:only-of-type {\n",
       "        vertical-align: middle;\n",
       "    }\n",
       "\n",
       "    .dataframe tbody tr th {\n",
       "        vertical-align: top;\n",
       "    }\n",
       "\n",
       "    .dataframe thead th {\n",
       "        text-align: right;\n",
       "    }\n",
       "</style>\n",
       "<table border=\"1\" class=\"dataframe\">\n",
       "  <thead>\n",
       "    <tr style=\"text-align: right;\">\n",
       "      <th></th>\n",
       "      <th>MedInc</th>\n",
       "      <th>HouseAge</th>\n",
       "      <th>AveRooms</th>\n",
       "      <th>AveBedrms</th>\n",
       "      <th>Population</th>\n",
       "      <th>AveOccup</th>\n",
       "      <th>Latitude</th>\n",
       "      <th>Longitude</th>\n",
       "      <th>price</th>\n",
       "    </tr>\n",
       "  </thead>\n",
       "  <tbody>\n",
       "    <tr>\n",
       "      <th>count</th>\n",
       "      <td>20640.000000</td>\n",
       "      <td>20640.000000</td>\n",
       "      <td>20640.000000</td>\n",
       "      <td>20640.000000</td>\n",
       "      <td>20640.000000</td>\n",
       "      <td>20640.000000</td>\n",
       "      <td>20640.000000</td>\n",
       "      <td>20640.000000</td>\n",
       "      <td>20640.000000</td>\n",
       "    </tr>\n",
       "    <tr>\n",
       "      <th>mean</th>\n",
       "      <td>3.870671</td>\n",
       "      <td>28.639486</td>\n",
       "      <td>5.429000</td>\n",
       "      <td>1.096675</td>\n",
       "      <td>1425.476744</td>\n",
       "      <td>3.070655</td>\n",
       "      <td>35.631861</td>\n",
       "      <td>-119.569704</td>\n",
       "      <td>2.068558</td>\n",
       "    </tr>\n",
       "    <tr>\n",
       "      <th>std</th>\n",
       "      <td>1.899822</td>\n",
       "      <td>12.585558</td>\n",
       "      <td>2.474173</td>\n",
       "      <td>0.473911</td>\n",
       "      <td>1132.462122</td>\n",
       "      <td>10.386050</td>\n",
       "      <td>2.135952</td>\n",
       "      <td>2.003532</td>\n",
       "      <td>1.153956</td>\n",
       "    </tr>\n",
       "    <tr>\n",
       "      <th>min</th>\n",
       "      <td>0.499900</td>\n",
       "      <td>1.000000</td>\n",
       "      <td>0.846154</td>\n",
       "      <td>0.333333</td>\n",
       "      <td>3.000000</td>\n",
       "      <td>0.692308</td>\n",
       "      <td>32.540000</td>\n",
       "      <td>-124.350000</td>\n",
       "      <td>0.149990</td>\n",
       "    </tr>\n",
       "    <tr>\n",
       "      <th>25%</th>\n",
       "      <td>2.563400</td>\n",
       "      <td>18.000000</td>\n",
       "      <td>4.440716</td>\n",
       "      <td>1.006079</td>\n",
       "      <td>787.000000</td>\n",
       "      <td>2.429741</td>\n",
       "      <td>33.930000</td>\n",
       "      <td>-121.800000</td>\n",
       "      <td>1.196000</td>\n",
       "    </tr>\n",
       "    <tr>\n",
       "      <th>50%</th>\n",
       "      <td>3.534800</td>\n",
       "      <td>29.000000</td>\n",
       "      <td>5.229129</td>\n",
       "      <td>1.048780</td>\n",
       "      <td>1166.000000</td>\n",
       "      <td>2.818116</td>\n",
       "      <td>34.260000</td>\n",
       "      <td>-118.490000</td>\n",
       "      <td>1.797000</td>\n",
       "    </tr>\n",
       "    <tr>\n",
       "      <th>75%</th>\n",
       "      <td>4.743250</td>\n",
       "      <td>37.000000</td>\n",
       "      <td>6.052381</td>\n",
       "      <td>1.099526</td>\n",
       "      <td>1725.000000</td>\n",
       "      <td>3.282261</td>\n",
       "      <td>37.710000</td>\n",
       "      <td>-118.010000</td>\n",
       "      <td>2.647250</td>\n",
       "    </tr>\n",
       "    <tr>\n",
       "      <th>max</th>\n",
       "      <td>15.000100</td>\n",
       "      <td>52.000000</td>\n",
       "      <td>141.909091</td>\n",
       "      <td>34.066667</td>\n",
       "      <td>35682.000000</td>\n",
       "      <td>1243.333333</td>\n",
       "      <td>41.950000</td>\n",
       "      <td>-114.310000</td>\n",
       "      <td>5.000010</td>\n",
       "    </tr>\n",
       "  </tbody>\n",
       "</table>\n",
       "</div>"
      ],
      "text/plain": [
       "             MedInc      HouseAge      AveRooms     AveBedrms    Population  \\\n",
       "count  20640.000000  20640.000000  20640.000000  20640.000000  20640.000000   \n",
       "mean       3.870671     28.639486      5.429000      1.096675   1425.476744   \n",
       "std        1.899822     12.585558      2.474173      0.473911   1132.462122   \n",
       "min        0.499900      1.000000      0.846154      0.333333      3.000000   \n",
       "25%        2.563400     18.000000      4.440716      1.006079    787.000000   \n",
       "50%        3.534800     29.000000      5.229129      1.048780   1166.000000   \n",
       "75%        4.743250     37.000000      6.052381      1.099526   1725.000000   \n",
       "max       15.000100     52.000000    141.909091     34.066667  35682.000000   \n",
       "\n",
       "           AveOccup      Latitude     Longitude         price  \n",
       "count  20640.000000  20640.000000  20640.000000  20640.000000  \n",
       "mean       3.070655     35.631861   -119.569704      2.068558  \n",
       "std       10.386050      2.135952      2.003532      1.153956  \n",
       "min        0.692308     32.540000   -124.350000      0.149990  \n",
       "25%        2.429741     33.930000   -121.800000      1.196000  \n",
       "50%        2.818116     34.260000   -118.490000      1.797000  \n",
       "75%        3.282261     37.710000   -118.010000      2.647250  \n",
       "max     1243.333333     41.950000   -114.310000      5.000010  "
      ]
     },
     "execution_count": 7,
     "metadata": {},
     "output_type": "execute_result"
    }
   ],
   "source": [
    "df.describe()"
   ]
  },
  {
   "cell_type": "code",
   "execution_count": 8,
   "id": "f4ad1c0f",
   "metadata": {},
   "outputs": [
    {
     "data": {
      "text/plain": [
       "MedInc        0.688075\n",
       "HouseAge      0.105623\n",
       "AveRooms      0.151948\n",
       "AveBedrms    -0.046701\n",
       "Population   -0.024650\n",
       "AveOccup     -0.023737\n",
       "Latitude     -0.144160\n",
       "Longitude    -0.045967\n",
       "price         1.000000\n",
       "Name: price, dtype: float64"
      ]
     },
     "execution_count": 8,
     "metadata": {},
     "output_type": "execute_result"
    }
   ],
   "source": [
    "df.corr()['price']"
   ]
  },
  {
   "cell_type": "code",
   "execution_count": 9,
   "id": "2d3d2867",
   "metadata": {},
   "outputs": [
    {
     "data": {
      "text/plain": [
       "<Axes: >"
      ]
     },
     "execution_count": 9,
     "metadata": {},
     "output_type": "execute_result"
    },
    {
     "data": {
      "image/png": "[encoded data removed]",
      "text/plain": [
       "<Figure size 640x480 with 2 Axes>"
      ]
     },
     "metadata": {},
     "output_type": "display_data"
    }
   ],
   "source": [
    "sns.heatmap(df.corr(),annot=True,cmap='Blues',fmt='0.1f')"
   ]
  },
  {
   "cell_type": "markdown",
   "id": "becdadc9",
   "metadata": {},
   "source": [
    "## Data preprocessing"
   ]
  },
  {
   "cell_type": "code",
   "execution_count": 10,
   "id": "65f9bb1a",
   "metadata": {},
   "outputs": [],
   "source": [
    "# Split data to x,y\n",
    "x=df.iloc[:,:-1]\n",
    "y=df.iloc[:,-1]"
   ]
  },
  {
   "cell_type": "code",
   "execution_count": 11,
   "id": "13702456",
   "metadata": {},
   "outputs": [],
   "source": [
    "# Data Normalization\n",
    "from sklearn.preprocessing import StandardScaler\n",
    "\n",
    "scaler=StandardScaler()\n",
    "x=scaler.fit_transform(x)"
   ]
  },
  {
   "cell_type": "code",
   "execution_count": 12,
   "id": "3e97b699",
   "metadata": {},
   "outputs": [
    {
     "name": "stdout",
     "output_type": "stream",
     "text": [
      "(14448, 8)\n",
      "(14448,)\n",
      "(6192, 8)\n",
      "(6192,)\n"
     ]
    }
   ],
   "source": [
    "# Split data\n",
    "from sklearn.model_selection import train_test_split\n",
    "\n",
    "x_train,x_test,y_train,y_test= train_test_split(x,y,test_size=0.3)\n",
    "\n",
    "print (x_train.shape)\n",
    "print (y_train.shape)\n",
    "print (x_test.shape)\n",
    "print (y_test.shape)"
   ]
  },
  {
   "cell_type": "markdown",
   "id": "3a631e31",
   "metadata": {},
   "source": [
    "## Model"
   ]
  },
  {
   "cell_type": "markdown",
   "id": "3a2aaa67",
   "metadata": {},
   "source": [
    "#### 1- Simple linear regression"
   ]
  },
  {
   "cell_type": "code",
   "execution_count": 13,
   "id": "5fb4a8ea",
   "metadata": {},
   "outputs": [],
   "source": [
    "from sklearn.linear_model import LinearRegression\n",
    "\n",
    "model=LinearRegression()\n",
    "model.fit(x_train,y_train)\n",
    "\n",
    "pred_train=model.predict(x_train)\n",
    "pred_test=model.predict(x_test)"
   ]
  },
  {
   "cell_type": "markdown",
   "id": "2623f7c8",
   "metadata": {},
   "source": [
    "#### Model evaluation"
   ]
  },
  {
   "cell_type": "code",
   "execution_count": 14,
   "id": "9a3e4097",
   "metadata": {},
   "outputs": [
    {
     "name": "stdout",
     "output_type": "stream",
     "text": [
      "for train:\n",
      "mae : 0.5314836419692596\n",
      "r2 socre 0.6044556770910052\n",
      "for test:\n",
      "mae : 0.5317127366543756\n",
      "r2 socre 0.609870413780832\n"
     ]
    }
   ],
   "source": [
    "from sklearn.metrics import r2_score , mean_absolute_error\n",
    "print (\"for train:\")\n",
    "print (f\"mae : {mean_absolute_error(y_train,pred_train)}\")\n",
    "print (f\"r2 socre {r2_score(y_train,pred_train)}\")\n",
    "\n",
    "print (\"for test:\")\n",
    "print (f\"mae : {mean_absolute_error(y_test,pred_test)}\")\n",
    "print (f\"r2 socre {r2_score(y_test,pred_test)}\")"
   ]
  },
  {
   "cell_type": "markdown",
   "id": "e0787f37",
   "metadata": {},
   "source": [
    "#### 2- Polynomial linear regression"
   ]
  },
  {
   "cell_type": "code",
   "execution_count": 15,
   "id": "c6182f49",
   "metadata": {},
   "outputs": [
    {
     "name": "stdout",
     "output_type": "stream",
     "text": [
      "degree = 1\n",
      "For training:\n",
      "mae: 0.5303584822259005, r2: 0.608763500533831\n",
      "For testing:\n",
      "mae: 0.5366882154516477, r2: 0.5997954883369538\n",
      "\n",
      "\n",
      "degree = 2\n",
      "For training:\n",
      "mae: 0.5367855420716959, r2: 0.5980745965234502\n",
      "For testing:\n",
      "mae: 0.5233302941944683, r2: 0.6250052932487471\n",
      "\n",
      "\n",
      "degree = 3\n",
      "For training:\n",
      "mae: 0.5337192483842997, r2: 0.6067948979589837\n",
      "For testing:\n",
      "mae: 0.5312162543528117, r2: 0.6037985753450423\n",
      "\n",
      "\n",
      "degree = 4\n",
      "For training:\n",
      "mae: 0.5320303894565986, r2: 0.6047942141086314\n",
      "For testing:\n",
      "mae: 0.5266735771710375, r2: 0.6058518485511553\n",
      "\n",
      "\n",
      "degree = 5\n",
      "For training:\n",
      "mae: 0.533541822925467, r2: 0.5985573601502703\n",
      "For testing:\n",
      "mae: 0.5270768694008908, r2: 0.6231784396075126\n",
      "\n",
      "\n"
     ]
    }
   ],
   "source": [
    "from sklearn.preprocessing import PolynomialFeatures\n",
    "for d in range(1,6):\n",
    "    # Polynomial Features\n",
    "    poly=PolynomialFeatures(d)\n",
    "    x_poly=poly.fit_transform(x)\n",
    "    # data scaled\n",
    "    x_scaled=scaler.fit_transform(x)\n",
    "    # train test split\n",
    "    x_train,x_test,y_train,y_test=train_test_split(x,y,test_size=0.3)\n",
    "    # build model\n",
    "    model.fit(x_train,y_train)\n",
    "    train_pred=model.predict(x_train)\n",
    "    print (\"degree =\",d)\n",
    "    print (\"For training:\")\n",
    "    print(f\"mae: {mean_absolute_error(y_train, train_pred)}, r2: {r2_score(y_train, train_pred)}\")\n",
    "    test_pred=model.predict(x_test)\n",
    "    print (\"For testing:\")\n",
    "    print(f\"mae: {mean_absolute_error(y_test, test_pred)}, r2: {r2_score(y_test, test_pred)}\")\n",
    "    print (\"\\n\")"
   ]
  },
  {
   "cell_type": "markdown",
   "id": "79989086",
   "metadata": {},
   "source": [
    "#### 3-XGBRegressor"
   ]
  },
  {
   "cell_type": "code",
   "execution_count": 16,
   "id": "f3102350",
   "metadata": {},
   "outputs": [],
   "source": [
    "# pip install xgboost\n",
    "from xgboost import XGBRegressor\n",
    "model=XGBRegressor()\n",
    "model.fit(x_train,y_train)\n",
    "\n",
    "pred_train=model.predict(x_train)\n",
    "pred_test=model.predict(x_test)"
   ]
  },
  {
   "cell_type": "markdown",
   "id": "60a89920",
   "metadata": {},
   "source": [
    "#### Model Evaluation"
   ]
  },
  {
   "cell_type": "code",
   "execution_count": 17,
   "id": "b1e4d47b",
   "metadata": {},
   "outputs": [
    {
     "name": "stdout",
     "output_type": "stream",
     "text": [
      "for train:\n",
      "mae : 0.18408420803752815\n",
      "r2 socre 0.949139703354966\n",
      "for test:\n",
      "mae : 0.30631215921911387\n",
      "r2 socre 0.8436062243935798\n"
     ]
    }
   ],
   "source": [
    "print (\"for train:\")\n",
    "print (f\"mae : {mean_absolute_error(y_train,pred_train)}\")\n",
    "print (f\"r2 socre {r2_score(y_train,pred_train)}\")\n",
    "\n",
    "print (\"for test:\")\n",
    "print (f\"mae : {mean_absolute_error(y_test,pred_test)}\")\n",
    "print (f\"r2 socre {r2_score(y_test,pred_test)}\")"
   ]
  },
  {
   "cell_type": "markdown",
   "id": "26809658",
   "metadata": {},
   "source": [
    "#### 4-SVR"
   ]
  },
  {
   "cell_type": "code",
   "execution_count": 18,
   "id": "c2b9ec42",
   "metadata": {},
   "outputs": [
    {
     "name": "stdout",
     "output_type": "stream",
     "text": [
      "for linear\n",
      "mae: 0.5167641347816931, r2: -1.9135761068589705\n",
      "for poly\n",
      "mae: 1.532137387466647, r2: -4132.234552483271\n",
      "for rbf\n",
      "mae: 0.3899947058711037, r2: 0.7497774534536306\n"
     ]
    }
   ],
   "source": [
    "from sklearn.svm import SVR\n",
    "\n",
    "kernel=['linear','poly','rbf']\n",
    "for k in kernel: \n",
    "    model=SVR(C=1.0,kernel=k,epsilon=0.1)\n",
    "    model.fit(x_train,y_train)\n",
    "\n",
    "    preds=model.predict(x_test)\n",
    "    # evaluation\n",
    "    print (f\"for {k}\")\n",
    "    print(f\"mae: {mean_absolute_error(y_test, preds)}, r2: {r2_score(y_test, preds)}\")"
   ]
  },
  {
   "cell_type": "code",
   "execution_count": 19,
   "id": "1c5a0e60",
   "metadata": {},
   "outputs": [
    {
     "name": "stdout",
     "output_type": "stream",
     "text": [
      "mae: 0.3899947058711037, r2: 0.7497774534536306\n",
      "mae: 0.3993098453523433, r2: 0.7389380656344775\n",
      "mae: 0.443357640925387, r2: 0.6842658167288046\n",
      "mae: 0.5133422889479374, r2: 0.5997867556694327\n",
      "mae: 0.5601699355131826, r2: 0.5322131713283489\n",
      "mae: 0.7075250349318417, r2: 0.28445874768080326\n"
     ]
    }
   ],
   "source": [
    "C=[1.0,0.5,0.05,0.01,0.005,0.001]\n",
    "for c in C:\n",
    "    model=SVR(C=c,kernel='rbf',epsilon=0.1)\n",
    "    model.fit(x_train,y_train)\n",
    "    preds=model.predict(x_test)\n",
    "    # evaluation\n",
    "    print(f\"mae: {mean_absolute_error(y_test, preds)}, r2: {r2_score(y_test, preds)}\")"
   ]
  },
  {
   "cell_type": "code",
   "execution_count": 20,
   "id": "81499d86",
   "metadata": {},
   "outputs": [],
   "source": [
    "model=SVR(C=1.0,kernel='rbf',epsilon=0.1)\n",
    "model.fit(x_train,y_train)\n",
    "pred_train=model.predict(x_train)\n",
    "pred_test=model.predict(x_test)"
   ]
  },
  {
   "cell_type": "code",
   "execution_count": 21,
   "id": "953ea813",
   "metadata": {},
   "outputs": [
    {
     "name": "stdout",
     "output_type": "stream",
     "text": [
      "for train:\n",
      "mae : 0.3847090042917457\n",
      "r2 socre 0.7409572508395643\n",
      "for test:\n",
      "mae : 0.3899947058711037\n",
      "r2 socre 0.7497774534536306\n"
     ]
    }
   ],
   "source": [
    "print (\"for train:\")\n",
    "print (f\"mae : {mean_absolute_error(y_train,pred_train)}\")\n",
    "print (f\"r2 socre {r2_score(y_train,pred_train)}\")\n",
    "\n",
    "print (\"for test:\")\n",
    "print (f\"mae : {mean_absolute_error(y_test,pred_test)}\")\n",
    "print (f\"r2 socre {r2_score(y_test,pred_test)}\")"
   ]
  },
  {
   "cell_type": "markdown",
   "id": "7badd562",
   "metadata": {},
   "source": [
    "#### 5- KNN Regressor"
   ]
  },
  {
   "cell_type": "code",
   "execution_count": 36,
   "id": "fbfcbcbb",
   "metadata": {},
   "outputs": [],
   "source": [
    "from sklearn.neighbors import KNeighborsRegressor\n",
    "\n",
    "model = KNeighborsRegressor(n_neighbors=3, weights='distance', algorithm='balltree')\n",
    "model.fit(x_train,y_train)\n",
    "pred_train=model.predict(x_train)\n",
    "pred_test=model.predict(x_test)"
   ]
  },
  {
   "cell_type": "code",
   "execution_count": 37,
   "id": "f233d0a7",
   "metadata": {},
   "outputs": [
    {
     "name": "stdout",
     "output_type": "stream",
     "text": [
      "for train:\n",
      "mae : 0.0\n",
      "r2 socre 1.0\n",
      "for test:\n",
      "mae : 0.45492516705301744\n",
      "r2 socre 0.6701455718708742\n"
     ]
    }
   ],
   "source": [
    "print (\"for train:\")\n",
    "print (f\"mae : {mean_absolute_error(y_train,pred_train)}\")\n",
    "print (f\"r2 socre {r2_score(y_train,pred_train)}\")\n",
    "\n",
    "print (\"for test:\")\n",
    "print (f\"mae : {mean_absolute_error(y_test,pred_test)}\")\n",
    "print (f\"r2 socre {r2_score(y_test,pred_test)}\")"
   ]
  },
  {
   "cell_type": "markdown",
   "id": "fc7ec0db",
   "metadata": {},
   "source": [
    "# Conclusion"
   ]
  },
  {
   "cell_type": "markdown",
   "id": "189b3c78",
   "metadata": {},
   "source": [
    "__From all I found the best two model in accuracy is XGBRegressor__"
   ]
  }
 ],
 "metadata": {
  "kernelspec": {
   "display_name": "Python 3 (ipykernel)",
   "language": "python",
   "name": "python3"
  },
  "language_info": {
   "codemirror_mode": {
    "name": "ipython",
    "version": 3
   },
   "file_extension": ".py",
   "mimetype": "text/x-python",
   "name": "python",
   "nbconvert_exporter": "python",
   "pygments_lexer": "ipython3",
   "version": "3.11.4"
  }
 },
 "nbformat": 4,
 "nbformat_minor": 5
}
